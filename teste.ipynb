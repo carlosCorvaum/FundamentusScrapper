{
 "cells": [
  {
   "cell_type": "code",
   "execution_count": null,
   "metadata": {},
   "outputs": [
    {
     "name": "stdout",
     "output_type": "stream",
     "text": [
      "verificando\n"
     ]
    }
   ],
   "source": [
    "from src.services.extract import *\n",
    "from bs4 import BeautifulSoup\n",
    "\n",
    "def extrair_dados_acao(acao: str, data_referencia: str = \"21/02/2025\"):\n",
    "    resultado = extract(acao)\n",
    "    soup = BeautifulSoup(str(resultado), 'lxml')\n",
    "\n",
    "    tds = soup.find_all('td')\n",
    "\n",
    "    if len(tds) < 8:\n",
    "        return None\n",
    "\n",
    "    papel = tds[1].get_text(strip=True)\n",
    "    data_ult_cot = tds[7].get_text(strip=True)\n",
    "\n",
    "    print(f\"Papel: {papel}, Data Última Cotação: {data_ult_cot}\")\n",
    "\n",
    "    ano = data_ult_cot.split('/')[-1] if data_ult_cot else \"\"\n",
    "    print(f\"Ano extraído: {ano}\")\n",
    "\n",
    "    acoes_validas = []\n",
    "    if data_ult_cot == data_referencia or not data_ult_cot:\n",
    "        return f\"{papel}\"\n",
    "    return None\n",
    "\n",
    "# Exemplo de uso\n",
    "dados_validos = extrair_dados_acao(\"PETR3\")\n",
    "print(dados_validos)\n",
    "\n",
    "with open(\"lista_papeis.json\", \"r\") as file:\n",
    "    lista_papeis = json.load(file)\n",
    "\n",
    "stock_list=[]\n",
    "for papel in lista_papeis:\n",
    "    stock_list.append(extrair_dados_acao(papel))\n",
    "\n",
    "print(stock_list)\n",
    "\n",
    "\n"
   ]
  },
  {
   "cell_type": "code",
   "execution_count": 7,
   "metadata": {},
   "outputs": [
    {
     "ename": "ModuleNotFoundError",
     "evalue": "No module named 'pandas'",
     "output_type": "error",
     "traceback": [
      "\u001b[31m---------------------------------------------------------------------------\u001b[39m",
      "\u001b[31mModuleNotFoundError\u001b[39m                       Traceback (most recent call last)",
      "\u001b[36mCell\u001b[39m\u001b[36m \u001b[39m\u001b[32mIn[7]\u001b[39m\u001b[32m, line 1\u001b[39m\n\u001b[32m----> \u001b[39m\u001b[32m1\u001b[39m \u001b[38;5;28;01mimport\u001b[39;00m\u001b[38;5;250m \u001b[39m\u001b[34;01mpandas\u001b[39;00m\u001b[38;5;250m \u001b[39m\u001b[38;5;28;01mas\u001b[39;00m\u001b[38;5;250m \u001b[39m\u001b[34;01mpd\u001b[39;00m\n\u001b[32m      3\u001b[39m \u001b[38;5;66;03m# Filtrando valores não nulos\u001b[39;00m\n\u001b[32m      4\u001b[39m valores_filtrados = [v \u001b[38;5;28;01mfor\u001b[39;00m v \u001b[38;5;129;01min\u001b[39;00m stock_list \u001b[38;5;28;01mif\u001b[39;00m v \u001b[38;5;129;01mis\u001b[39;00m \u001b[38;5;129;01mnot\u001b[39;00m \u001b[38;5;28;01mNone\u001b[39;00m]\n",
      "\u001b[31mModuleNotFoundError\u001b[39m: No module named 'pandas'"
     ]
    }
   ],
   "source": [
    "import pandas as pd\n",
    "\n",
    "# Filtrando valores não nulos\n",
    "valores_filtrados = [v for v in stock_list if v is not None]\n",
    "\n",
    "# Criando DataFrame\n",
    "df = pd.DataFrame(valores_filtrados, columns=[\"Valores\"])\n",
    "\n",
    "print(df)\n",
    "df[\"Valores\"].to_json(\"gold_stock_list.json\", orient=\"values\", indent=4)\n",
    "\n"
   ]
  }
 ],
 "metadata": {
  "kernelspec": {
   "display_name": "Python 3",
   "language": "python",
   "name": "python3"
  },
  "language_info": {
   "codemirror_mode": {
    "name": "ipython",
    "version": 3
   },
   "file_extension": ".py",
   "mimetype": "text/x-python",
   "name": "python",
   "nbconvert_exporter": "python",
   "pygments_lexer": "ipython3",
   "version": "3.11.9"
  }
 },
 "nbformat": 4,
 "nbformat_minor": 2
}
